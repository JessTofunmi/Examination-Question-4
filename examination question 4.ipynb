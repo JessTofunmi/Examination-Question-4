{
 "cells": [
  {
   "cell_type": "code",
   "execution_count": 6,
   "id": "1e6dc959",
   "metadata": {},
   "outputs": [
    {
     "name": "stdout",
     "output_type": "stream",
     "text": [
      "Enter a grocery Itemfg\n",
      "Showing Grocery lis ['fg']\n",
      "Enter A to add | D to show grocery list | S to Search Grocerylist | E to ExitA\n",
      "Addig grocery...\n",
      "Enter a grocery Itemgd\n",
      "Showing Grocery lis ['fg', 'gd']\n",
      "Enter A to add | D to show grocery list | S to Search Grocerylist | E to ExitA\n",
      "Addig grocery...\n",
      "Enter a grocery Itemgdgdh\n",
      "Showing Grocery lis ['fg', 'gd', 'gdgdh']\n",
      "Enter A to add | D to show grocery list | S to Search Grocerylist | E to ExitD\n",
      "Showing Grocery lis ['fg', 'gd', 'gdgdh']\n",
      "Enter A to add | D to show grocery list | S to Search Grocerylist | E to ExitS\n",
      "Enter grocer item to searchfg\n",
      "Your Grocery item fg is found 1 time(s)\n",
      "Showing Grocery lis ['fg', 'gd', 'gdgdh']\n",
      "Enter A to add | D to show grocery list | S to Search Grocerylist | E to ExitE\n",
      "Your Grocery list is being exited\n"
     ]
    }
   ],
   "source": [
    "groceryItems=[]\n",
    "def enterProduct():\n",
    "    i=input('Enter a grocery Item')\n",
    "    return i\n",
    "\n",
    "def addGrocery(val,lst):\n",
    "    lst.append(val)\n",
    "    return lst\n",
    "\n",
    "def showDisplay(lst):\n",
    "    print('Showing Grocery lis', lst)\n",
    "    addAnotherGrocery()\n",
    "    \n",
    "def searchGrocery():\n",
    "    search_grocery=input('Enter grocer item to search')\n",
    "    chk=groceryItems.count(search_grocery)\n",
    "    if search_grocery in groceryItems:\n",
    "        \n",
    "        print('Your Grocery item',search_grocery, 'is found', chk, 'time(s)' )\n",
    "    else:\n",
    "        print('Your Grocery item',search_grocery,'was not found')\n",
    "    showDisplay(r)\n",
    "              \n",
    "def addAnotherGrocery():\n",
    "    x=input('Enter A to add | D to show grocery list | S to Search Grocerylist | E to Exit')\n",
    "    if x=='A':\n",
    "        print('Addig grocery...')\n",
    "        x=enterProduct()\n",
    "        d=addGrocery(x, groceryItems)\n",
    "        showDisplay(d)\n",
    "    if x=='D':\n",
    "        showDisplay(groceryItems)\n",
    "    elif x=='S':\n",
    "        searchGrocery()\n",
    "    elif x=='E':\n",
    "        print('Your Grocery list is being exited')\n",
    "  \n",
    "              \n",
    "i=enterProduct()\n",
    "r=addGrocery(i, groceryItems)\n",
    "showDisplay(r)            "
   ]
  },
  {
   "cell_type": "code",
   "execution_count": null,
   "id": "76784f3a",
   "metadata": {},
   "outputs": [],
   "source": []
  }
 ],
 "metadata": {
  "kernelspec": {
   "display_name": "Python 3 (ipykernel)",
   "language": "python",
   "name": "python3"
  },
  "language_info": {
   "codemirror_mode": {
    "name": "ipython",
    "version": 3
   },
   "file_extension": ".py",
   "mimetype": "text/x-python",
   "name": "python",
   "nbconvert_exporter": "python",
   "pygments_lexer": "ipython3",
   "version": "3.11.1"
  }
 },
 "nbformat": 4,
 "nbformat_minor": 5
}
